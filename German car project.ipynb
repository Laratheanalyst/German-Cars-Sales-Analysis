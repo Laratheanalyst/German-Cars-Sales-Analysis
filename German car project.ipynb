{
 "cells": [
  {
   "cell_type": "code",
   "execution_count": null,
   "id": "21731592-62e2-4ec6-a05b-7acd1c30f211",
   "metadata": {},
   "outputs": [],
   "source": [
    "import pandas as pd"
   ]
  },
  {
   "cell_type": "code",
   "execution_count": null,
   "id": "16f6023b-3a7b-4836-9ab6-b9b701455103",
   "metadata": {},
   "outputs": [],
   "source": [
    "cars = pd.read_csv(\"cleaned_german_cars_data.csv\")\n",
    "cars"
   ]
  },
  {
   "cell_type": "markdown",
   "id": "7d5a4543-7cd5-49cc-8cdb-2840e9321169",
   "metadata": {},
   "source": [
    "### QUESTION ONE "
   ]
  },
  {
   "cell_type": "code",
   "execution_count": null,
   "id": "6f6520a2-65ea-4a11-a3f4-c253481a98bc",
   "metadata": {},
   "outputs": [],
   "source": [
    "cars.isna().sum()"
   ]
  },
  {
   "cell_type": "code",
   "execution_count": null,
   "id": "8bd6a3c3-c226-4938-af0e-acb3d204c9fe",
   "metadata": {},
   "outputs": [],
   "source": [
    "cars.fillna(0,inplace=True)"
   ]
  },
  {
   "cell_type": "code",
   "execution_count": null,
   "id": "d88e3676-d5f3-43e1-a136-673748b61428",
   "metadata": {},
   "outputs": [],
   "source": [
    "cars.drop_duplicates()"
   ]
  },
  {
   "cell_type": "code",
   "execution_count": null,
   "id": "9557b415-0384-4a0d-8bd9-e114d484393a",
   "metadata": {},
   "outputs": [],
   "source": [
    "cars.dtypes"
   ]
  },
  {
   "cell_type": "code",
   "execution_count": null,
   "id": "b752fb7f-e193-4606-bdeb-9bdbb24d78ad",
   "metadata": {},
   "outputs": [],
   "source": [
    "cars.columns"
   ]
  },
  {
   "cell_type": "markdown",
   "id": "5832aede-6491-47e0-bf39-abd252158aff",
   "metadata": {},
   "source": [
    "### QUESTION TWO"
   ]
  },
  {
   "cell_type": "code",
   "execution_count": null,
   "id": "9d778a29-6b31-4d92-9bd1-fd9b1a762f09",
   "metadata": {},
   "outputs": [],
   "source": [
    "del cars['Unnamed: 0']"
   ]
  },
  {
   "cell_type": "code",
   "execution_count": null,
   "id": "f7968fe8-e9fe-4e51-8c37-0ad3d9d6f26b",
   "metadata": {},
   "outputs": [],
   "source": [
    "del cars[ 'name']"
   ]
  },
  {
   "cell_type": "code",
   "execution_count": null,
   "id": "e6d61b3e-39e7-4426-8600-3df7b597c308",
   "metadata": {},
   "outputs": [],
   "source": [
    "cars"
   ]
  },
  {
   "cell_type": "markdown",
   "id": "5686907f-2284-4a88-9901-317733bfc469",
   "metadata": {},
   "source": [
    "### QUESTION TWO"
   ]
  },
  {
   "cell_type": "code",
   "execution_count": null,
   "id": "da38fef5-2b6c-44b8-8f8e-595e6b4ae20b",
   "metadata": {},
   "outputs": [],
   "source": [
    "Rename the trassmition column to transmission"
   ]
  },
  {
   "cell_type": "code",
   "execution_count": null,
   "id": "85913bdf-2ed5-4ba9-a55f-787c1773e2e5",
   "metadata": {},
   "outputs": [],
   "source": [
    "cars.rename(columns = {\"trassmition\":\"transmission\"},inplace=True)\n",
    "cars"
   ]
  },
  {
   "cell_type": "markdown",
   "id": "42f1f550-7c24-4bbe-bb66-301406a54037",
   "metadata": {},
   "source": [
    "### QUESTION THREE "
   ]
  },
  {
   "cell_type": "code",
   "execution_count": null,
   "id": "8b9d7431-85aa-496b-910d-b93b11a830c0",
   "metadata": {},
   "outputs": [],
   "source": [
    "from plotly.offline import init_notebook_mode\n",
    "import cufflinks as cf\n",
    "cf.go_offline()"
   ]
  },
  {
   "cell_type": "code",
   "execution_count": null,
   "id": "0a6261e6-edde-42f5-bdf3-b6ad65f7a17f",
   "metadata": {},
   "outputs": [],
   "source": [
    "AM = cars.value_counts(\"transmission\").reset_index()\n",
    "AM"
   ]
  },
  {
   "cell_type": "code",
   "execution_count": null,
   "id": "a69494a7-d3eb-4e90-8476-4ce68eb61bb2",
   "metadata": {},
   "outputs": [],
   "source": [
    "AM.iplot(kind=\"pie\",labels=\"transmission\", values=\"count\",text=\"transmission\",hole=0.5,\n",
    "         title=\"DISTRIBUTION BY TRANSMISSION\")"
   ]
  },
  {
   "cell_type": "markdown",
   "id": "4f5ecbe2-3583-4ff4-b29c-9a3fe76b3bec",
   "metadata": {},
   "source": [
    "### QUESTION FOUR"
   ]
  },
  {
   "cell_type": "code",
   "execution_count": null,
   "id": "172657b0-4a30-4fe7-9b05-eece26b6c44a",
   "metadata": {},
   "outputs": [],
   "source": [
    "Show the rows for used cars in 2024 from the data set, how many are they?\n",
    "cars.loc[(cars[\"model\"] == 2024) & (cars[\"milage\"] > 0),[\"Brand\",\"model\",\"milage\"]]"
   ]
  },
  {
   "cell_type": "markdown",
   "id": "9bcc6b4d-ef22-4f6c-83e2-83f14d759bdd",
   "metadata": {},
   "source": [
    "### QUESTION FIVE"
   ]
  },
  {
   "cell_type": "code",
   "execution_count": null,
   "id": "2cecbd80-30c7-4f42-bb44-e3c9c017273a",
   "metadata": {},
   "outputs": [],
   "source": [
    "cars[\"Brand\"].value_counts()"
   ]
  },
  {
   "cell_type": "code",
   "execution_count": null,
   "id": "abe7e43a-bc52-4bd5-baaf-2afe391cbdbb",
   "metadata": {},
   "outputs": [],
   "source": [
    "cars = cars[cars[\"Brand\"] != \"Seat\"]\n",
    "cars"
   ]
  },
  {
   "cell_type": "markdown",
   "id": "1d351c56-8302-479e-a820-15e03b3d8103",
   "metadata": {},
   "source": [
    "### QUESTION SIX"
   ]
  },
  {
   "cell_type": "code",
   "execution_count": null,
   "id": "bd65bbc4-8000-4699-9e65-e6a2af73cc5c",
   "metadata": {},
   "outputs": [],
   "source": [
    "c=cars.groupby([\"model\" ,\"Brand\"])[ \"price\"].sum().loc[2024].nlargest(1)\n",
    "c"
   ]
  },
  {
   "cell_type": "markdown",
   "id": "c17b31e9-e484-44e6-85c0-f26d2dba5108",
   "metadata": {},
   "source": [
    "### QUESTION SEVEN "
   ]
  },
  {
   "cell_type": "code",
   "execution_count": 4,
   "id": "bc0c3e85-7676-49a6-9ef1-eaf8ca1bd60b",
   "metadata": {},
   "outputs": [
    {
     "ename": "NameError",
     "evalue": "name 'cars' is not defined",
     "output_type": "error",
     "traceback": [
      "\u001b[1;31m---------------------------------------------------------------------------\u001b[0m",
      "\u001b[1;31mNameError\u001b[0m                                 Traceback (most recent call last)",
      "Cell \u001b[1;32mIn[4], line 1\u001b[0m\n\u001b[1;32m----> 1\u001b[0m cars[\u001b[38;5;124m\"\u001b[39m\u001b[38;5;124mBrand\u001b[39m\u001b[38;5;124m\"\u001b[39m]\u001b[38;5;241m.\u001b[39munique()\n",
      "\u001b[1;31mNameError\u001b[0m: name 'cars' is not defined"
     ]
    }
   ],
   "source": [
    "cars[\"Brand\"].unique()"
   ]
  },
  {
   "cell_type": "markdown",
   "id": "388127a2-6af0-43de-a9e0-63e6680242fd",
   "metadata": {},
   "source": [
    "### QUESTION EIGHT "
   ]
  },
  {
   "cell_type": "code",
   "execution_count": null,
   "id": "fe9e3f04-4ea5-403a-93b0-8880dea99441",
   "metadata": {},
   "outputs": [],
   "source": [
    "cars.groupby([ \"Brand\"])[ \"price\"].sum().nlargest(1)\n",
    "c"
   ]
  },
  {
   "cell_type": "code",
   "execution_count": null,
   "id": "3d6dc0b0-bc75-4b95-91b2-fffebd01999e",
   "metadata": {},
   "outputs": [],
   "source": [
    "B=cars.groupby([\"Brand\"])[\"milage\"].sum().reset_index()"
   ]
  },
  {
   "cell_type": "markdown",
   "id": "c6a10f20-666e-410b-8cbb-f4e347c10a6c",
   "metadata": {},
   "source": [
    "### QUESTION NINE "
   ]
  },
  {
   "cell_type": "code",
   "execution_count": null,
   "id": "326230e2-bf2e-44c4-96ad-18ddb197ddff",
   "metadata": {},
   "outputs": [],
   "source": [
    "### Visualize the distribution of the car milage using plotly\n",
    "B.iplot(kind=\"bar\",x=\"Brand\",y=\"milage\",text=\"milage\",\n",
    "        color=\"blue\",title=\"TOTAL MILAGE\",\n",
    "        yaxis_title=\"MILAGE\",xaxis_title=\"BRAND\")"
   ]
  },
  {
   "cell_type": "markdown",
   "id": "9b4c5e43-0c6f-40ca-9891-d2c8f729b544",
   "metadata": {},
   "source": [
    "### QUESTION TEN"
   ]
  },
  {
   "cell_type": "code",
   "execution_count": null,
   "id": "0de2cc01-aaf3-4f9a-8ad5-32f1e7b54753",
   "metadata": {},
   "outputs": [],
   "source": [
    "ba=cars.value_counts(\"fuel\").reset_index()"
   ]
  },
  {
   "cell_type": "code",
   "execution_count": null,
   "id": "6ae97a41-abdc-43f5-8146-b61e67811bf8",
   "metadata": {},
   "outputs": [],
   "source": [
    "ba.iplot(kind=\"pie\",labels=\"fuel\", values=\"count\",text=\"transmission\",hole=0.7,\n",
    "         title=\"FUEL DISTRIBUTION\")"
   ]
  },
  {
   "cell_type": "markdown",
   "id": "6dc548a8-d894-4e23-bb0a-c6a59fdebfad",
   "metadata": {},
   "source": [
    "### QUESTION ELEVEN "
   ]
  },
  {
   "cell_type": "code",
   "execution_count": null,
   "id": "1e08f151-4246-4162-a89f-36c4eefda2af",
   "metadata": {},
   "outputs": [],
   "source": [
    "cars.groupby([\"Segment\"])[\"price\"].sum().reset_index()"
   ]
  },
  {
   "cell_type": "code",
   "execution_count": null,
   "id": "781edeac-d16a-4de5-8a56-5ac4f5be174a",
   "metadata": {},
   "outputs": [],
   "source": []
  }
 ],
 "metadata": {
  "kernelspec": {
   "display_name": "Python 3 (ipykernel)",
   "language": "python",
   "name": "python3"
  },
  "language_info": {
   "codemirror_mode": {
    "name": "ipython",
    "version": 3
   },
   "file_extension": ".py",
   "mimetype": "text/x-python",
   "name": "python",
   "nbconvert_exporter": "python",
   "pygments_lexer": "ipython3",
   "version": "3.12.7"
  }
 },
 "nbformat": 4,
 "nbformat_minor": 5
}
